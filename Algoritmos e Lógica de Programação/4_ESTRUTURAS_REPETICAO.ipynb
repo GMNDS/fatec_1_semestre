{
 "cells": [
  {
   "cell_type": "markdown",
   "metadata": {
    "colab_type": "text",
    "id": "view-in-github"
   },
   "source": [
    "<a href=\"https://colab.research.google.com/github/ProfAndersonVanin/FATEC_ALGORITMOS_2SEM2024/blob/main/Fatec_Estruturas_Repeticao_EXERCICIOS.ipynb\" target=\"_parent\"><img src=\"https://colab.research.google.com/assets/colab-badge.svg\" alt=\"Open In Colab\"/></a>"
   ]
  },
  {
   "cell_type": "markdown",
   "metadata": {
    "id": "4BHkhl1eO0V4"
   },
   "source": [
    "1- Faça um programa que peça uma nota, entre zero e dez. Mostre uma mensagem caso o valor seja inválido e continue pedindo até que o usuário informe um valor válido."
   ]
  },
  {
   "cell_type": "code",
   "execution_count": null,
   "metadata": {
    "id": "4aR8eWjyO20P"
   },
   "outputs": [],
   "source": [
    "nota = -1;\n",
    "\n",
    "while nota < 0 or nota > 10:\n",
    "    nota = int(input(\"Digite uma nota entre 0 e 10: \"))\n",
    "print(\"Nota: \", nota)"
   ]
  },
  {
   "cell_type": "markdown",
   "metadata": {
    "id": "8xLNyx3vO6__"
   },
   "source": [
    "2- Faça um programa que leia um nome de usuário e a sua senha e não aceite a senha igual ao nome do usuário, mostrando uma mensagem de erro e voltando a pedir as informações."
   ]
  },
  {
   "cell_type": "code",
   "execution_count": null,
   "metadata": {
    "id": "x21IQbJqPDtI"
   },
   "outputs": [],
   "source": [
    "usuario = input(\"Digite o nome de usuário: \")\n",
    "senha = input(\"Digite a senha: \")\n",
    "\n",
    "while usuario == senha:\n",
    "    print(\"Usuário e senha não podem ser iguais\")\n",
    "    usuario = input(\"Digite o nome de usuário: \")\n",
    "    senha = input(\"Digite a senha: \")\n",
    "\n",
    "print(\"Seu usuário é: \", usuario)\n",
    "print(\"Sua senha é: \", senha)"
   ]
  },
  {
   "cell_type": "markdown",
   "metadata": {
    "id": "l24MnOXFPG7n"
   },
   "source": [
    "3- Faça um programa que leia e valide as seguintes informações:\n",
    "*   Nome: maior que 3 caracteres;\n",
    "*   Idade: entre 0 e 150;\n",
    "*   Salário: maior que zero;\n",
    "*   Sexo: 'f' ou 'm';\n",
    "*   Estado Civil: 's', 'c', 'v', 'd';\n",
    "\n",
    "Use a função **len(string)** para saber o tamanho de um texto (número de caracteres).\n"
   ]
  },
  {
   "cell_type": "code",
   "execution_count": null,
   "metadata": {
    "id": "w28p4gJ8Pc2b"
   },
   "outputs": [],
   "source": [
    "nome = input(\"Digite seu nome: \")\n",
    "idade = int(input(\"Digite sua idade: \"))\n",
    "salario = float(input(\"Digite seu salário: \"))\n",
    "sexo = input(\"Digite seu sexo (f ou m): \")\n",
    "estado_civil = input(\"Digite seu estado civil (s, c, v, d): \")\n",
    "\n",
    "verifica_nome = len(nome) > 3\n",
    "verifica_idade = idade >= 0 and idade <= 150\n",
    "verifica_salario = salario > 0\n",
    "verifica_sexo = sexo == 'f' or sexo == 'm'\n",
    "verifica_estado_civil = estado_civil == 's' or estado_civil == 'c' or estado_civil == 'v' or estado_civil == 'd'\n",
    "verifica_tudo = verifica_nome and verifica_idade and verifica_salario and verifica_sexo and verifica_estado_civil\n",
    "\n",
    "if verifica_tudo:\n",
    "    print(\"Nome: \", nome)\n",
    "    print(\"Idade: \", idade)\n",
    "    print(\"Salário: \", salario)\n",
    "    print(\"Sexo: \", sexo)\n",
    "    print(\"Estado civil: \", estado_civil)\n",
    "    exit(0)\n",
    "\n",
    "while verifica_nome == False:\n",
    "    print(\"Nome inválido\")\n",
    "    nome = input(\"Digite seu nome: \")\n",
    "    verifica_nome = len(nome) > 3\n",
    "\n",
    "while verifica_idade == False:\n",
    "    print(\"Idade inválida\")\n",
    "    idade = int(input(\"Digite sua idade: \"))\n",
    "    verifica_idade = idade >= 0 and idade <= 150\n",
    "\n",
    "while verifica_salario == False:\n",
    "    print(\"Salário inválido\")\n",
    "    salario = float(input(\"Digite seu salário: \"))\n",
    "    verifica_salario = salario > 0\n",
    "\n",
    "while verifica_sexo == False:\n",
    "    print(\"Sexo inválido\")\n",
    "    sexo = input(\"Digite seu sexo (f ou m): \")\n",
    "    verifica_sexo = sexo == 'f' or sexo == 'm'\n",
    "\n",
    "while verifica_estado_civil == False:\n",
    "    print(\"Estado civil inválido\")\n",
    "    estado_civil = input(\"Digite seu estado civil (s, c, v, d): \")\n",
    "    verifica_estado_civil = estado_civil == 's' or estado_civil == 'c' or estado_civil == 'v' or estado_civil == 'd'\n",
    "\n",
    "\n"
   ]
  },
  {
   "cell_type": "markdown",
   "metadata": {
    "id": "8WpDFV0uP1DX"
   },
   "source": [
    "4- Supondo que a população de um país A seja da ordem de 80000 habitantes com uma taxa anual de crescimento de 3% e que a população de B seja 200000 habitantes com uma taxa de crescimento de 1.5%. Faça um programa que calcule e escreva o número de anos necessários para que a população do país A ultrapasse ou iguale a população do país B, mantidas as taxas de crescimento."
   ]
  },
  {
   "cell_type": "code",
   "execution_count": 2,
   "metadata": {
    "id": "Qszzk46vzGoS"
   },
   "outputs": [
    {
     "name": "stdout",
     "output_type": "stream",
     "text": [
      "Sao necessários 63 anos para que o país A ultrapasse o país B em número de habitantes\n"
     ]
    }
   ],
   "source": [
    "pais_a = 80000\n",
    "pais_b = 200000\n",
    "taxa_a = 0.03\n",
    "taxa_b = 0.015\n",
    "\n",
    "anos = 0\n",
    "\n",
    "while pais_a < pais_b:\n",
    "    pais_a *= (taxa_a+1)\n",
    "    pais_b *= (taxa_b+1)\n",
    "    anos += 1\n",
    "print(f\"Sao necessários {anos} anos para que o país A ultrapasse o país B em número de habitantes\")"
   ]
  },
  {
   "cell_type": "markdown",
   "metadata": {
    "id": "GaMiWS9DP-zf"
   },
   "source": [
    "5- Altere o programa anterior permitindo ao usuário informar as populações e as taxas de crescimento iniciais. Valide a entrada e permita repetir a operação."
   ]
  },
  {
   "cell_type": "code",
   "execution_count": null,
   "metadata": {
    "id": "ibOa9dT0P5iD"
   },
   "outputs": [],
   "source": [
    "pais_a = int(input(\"Digite a quantidade de habitantes do país A: \"))\n",
    "pais_b = int(input(\"Digite a quantidade de habitantes do país B: \"))\n",
    "taxa_a = float(input(\"Digite a taxa de crescimento anual do país A: \"))\n",
    "taxa_b = float(input(\"Digite a taxa de crescimento anual do país B: \"))\n",
    "\n",
    "anos = 0\n",
    "\n",
    "while pais_a < pais_b:\n",
    "    pais_a *= (taxa_a+1)\n",
    "    pais_b *= (taxa_b+1)\n",
    "    anos += 1\n",
    "print(f\"Sao necessários {anos} anos para que o país A ultrapasse o país B em número de habitantes\")"
   ]
  },
  {
   "cell_type": "markdown",
   "metadata": {
    "id": "HF_S1CYWQG1v"
   },
   "source": [
    "6- Faça um programa que imprima na tela os números de 1 a 20, um abaixo do outro. Depois modifique o programa para que ele mostre os números um ao lado do outro."
   ]
  },
  {
   "cell_type": "code",
   "execution_count": 4,
   "metadata": {
    "id": "ns_qNgR2zIPJ"
   },
   "outputs": [
    {
     "name": "stdout",
     "output_type": "stream",
     "text": [
      "1\n",
      "2\n",
      "3\n",
      "4\n",
      "5\n",
      "6\n",
      "7\n",
      "8\n",
      "9\n",
      "10\n",
      "11\n",
      "12\n",
      "13\n",
      "14\n",
      "15\n",
      "16\n",
      "17\n",
      "18\n",
      "19\n",
      "20\n",
      "1 2 3 4 5 6 7 8 9 10 11 12 13 14 15 16 17 18 19 20 "
     ]
    }
   ],
   "source": [
    "for i in range(1,21):\n",
    "    print(i)\n",
    "for i in range (1,21):\n",
    "    print(i, end=\" \")"
   ]
  },
  {
   "cell_type": "markdown",
   "metadata": {
    "id": "v7UrGR9MQLnW"
   },
   "source": [
    "7- Faça um programa que leia 5 números e informe o maior número."
   ]
  },
  {
   "cell_type": "code",
   "execution_count": 6,
   "metadata": {
    "id": "MOwOObu6QI5a"
   },
   "outputs": [
    {
     "name": "stdout",
     "output_type": "stream",
     "text": [
      "Maior número:  50\n"
     ]
    }
   ],
   "source": [
    "num_list = []\n",
    "for i in range(5):\n",
    "    num = int(input(\"Digite um número: \"))\n",
    "    num_list.append(num)\n",
    "maior = max(num_list)\n",
    "print(\"Maior número: \", maior)\n",
    "\n"
   ]
  },
  {
   "cell_type": "markdown",
   "metadata": {
    "id": "B-7qr6k3QQsg"
   },
   "source": [
    "8- Faça um programa que leia 5 números e informe a soma e a média dos números."
   ]
  },
  {
   "cell_type": "code",
   "execution_count": 9,
   "metadata": {
    "id": "pmJfzKWjQR0-"
   },
   "outputs": [
    {
     "name": "stdout",
     "output_type": "stream",
     "text": [
      "Media dos números:  5.0\n"
     ]
    }
   ],
   "source": [
    "num_list = []\n",
    "for i in range(5):\n",
    "    num = int(input(\"Digite um número: \"))\n",
    "    num_list.append(num)\n",
    "media = sum(num_list)/len(num_list)\n",
    "print(\"Media dos números: \", media)"
   ]
  },
  {
   "cell_type": "markdown",
   "metadata": {
    "id": "nUAFdwiYQU9H"
   },
   "source": [
    "9- Faça um programa que imprima na tela apenas os números ímpares entre 1 e 50."
   ]
  },
  {
   "cell_type": "code",
   "execution_count": 10,
   "metadata": {
    "id": "dttpJpn3QV73"
   },
   "outputs": [
    {
     "name": "stdout",
     "output_type": "stream",
     "text": [
      "1\n",
      "3\n",
      "5\n",
      "7\n",
      "9\n",
      "11\n",
      "13\n",
      "15\n",
      "17\n",
      "19\n",
      "21\n",
      "23\n",
      "25\n",
      "27\n",
      "29\n",
      "31\n",
      "33\n",
      "35\n",
      "37\n",
      "39\n",
      "41\n",
      "43\n",
      "45\n",
      "47\n",
      "49\n"
     ]
    }
   ],
   "source": [
    "for i in range(1,51):\n",
    "    if i % 2 != 0:\n",
    "        print(i)"
   ]
  },
  {
   "cell_type": "markdown",
   "metadata": {
    "id": "XMh61ATtQaQ2"
   },
   "source": [
    "10- Faça um programa que receba dois números inteiros e gere os números inteiros que estão no intervalo compreendido por eles."
   ]
  },
  {
   "cell_type": "code",
   "execution_count": 11,
   "metadata": {
    "id": "ijjW78AqQbRo"
   },
   "outputs": [
    {
     "name": "stdout",
     "output_type": "stream",
     "text": [
      "1\n",
      "2\n",
      "3\n",
      "4\n",
      "5\n",
      "6\n",
      "7\n",
      "8\n",
      "9\n",
      "10\n",
      "11\n",
      "12\n"
     ]
    }
   ],
   "source": [
    "num_a = int(input(\"Digite um número: \"))\n",
    "num_b = int(input(\"Digite um número: \"))\n",
    "\n",
    "for i in range(num_a, num_b+1):\n",
    "    print(i)"
   ]
  },
  {
   "cell_type": "markdown",
   "metadata": {
    "id": "5NuReyMRQdmH"
   },
   "source": [
    "11- Altere o programa anterior para mostrar no final a soma dos números."
   ]
  },
  {
   "cell_type": "code",
   "execution_count": null,
   "metadata": {
    "id": "Dw3f5v0dQemp"
   },
   "outputs": [],
   "source": [
    "num_a = int(input(\"Digite um número: \"))\n",
    "num_b = int(input(\"Digite um número: \"))\n",
    "nums = []\n",
    "for i in range(num_a, num_b+1):\n",
    "    print(i)\n",
    "    nums.append(i)\n",
    "\n",
    "soma = sum(nums)\n",
    "print(\"Soma dos números: \", soma)"
   ]
  },
  {
   "cell_type": "markdown",
   "metadata": {
    "id": "JzSUD3yHQiRW"
   },
   "source": [
    "12- Desenvolva um gerador de tabuada, capaz de gerar a tabuada de qualquer número inteiro entre 1 a 10. O usuário deve informar de qual numero ele deseja ver a tabuada. A saída deve ser conforme o exemplo abaixo:\n",
    "\n",
    "Tabuada de 5:\n",
    "\n",
    "5 X 1 = 5\n",
    "\n",
    "5 X 2 = 10\n",
    "\n",
    "...\n",
    "\n",
    "5 X 10 = 50"
   ]
  },
  {
   "cell_type": "code",
   "execution_count": 13,
   "metadata": {
    "id": "BFDcQCFnQnNo"
   },
   "outputs": [
    {
     "name": "stdout",
     "output_type": "stream",
     "text": [
      "5 x 1 = 5\n",
      "5 x 2 = 10\n",
      "5 x 3 = 15\n",
      "5 x 4 = 20\n",
      "5 x 5 = 25\n",
      "5 x 6 = 30\n",
      "5 x 7 = 35\n",
      "5 x 8 = 40\n",
      "5 x 9 = 45\n",
      "5 x 10 = 50\n"
     ]
    }
   ],
   "source": [
    "num = int(input(\"Digite um número entre 0 e 10: \"))\n",
    "while num < 0 or num > 10:\n",
    "    num = int(input(\"Digite um número entre 0 e 10: \"))\n",
    "    \n",
    "for i in range(1,11):\n",
    "    print(f\"{num} x {i} = {num*i}\")"
   ]
  },
  {
   "cell_type": "markdown",
   "metadata": {
    "id": "-LI5xyBNQqq-"
   },
   "source": [
    "13- Faça um programa que peça dois números, base e expoente, calcule e mostre o primeiro número elevado ao segundo número. Não utilize a função de potência da linguagem."
   ]
  },
  {
   "cell_type": "code",
   "execution_count": 20,
   "metadata": {
    "id": "vzAyk0HrQrxn"
   },
   "outputs": [
    {
     "name": "stdout",
     "output_type": "stream",
     "text": [
      "16\n"
     ]
    }
   ],
   "source": [
    "num_a = int(input(\"Digite a base: \"))\n",
    "num_b = int(input(\"Digite o expoente: \"))\n",
    "for i in range(2):\n",
    "    num_a *= num_b\n",
    "print(num_a)"
   ]
  },
  {
   "cell_type": "markdown",
   "metadata": {
    "id": "1S9PEwRLQuEm"
   },
   "source": [
    "14- Faça um programa que peça 10 números inteiros, calcule e mostre a quantidade de números pares e a quantidade de números ímpares."
   ]
  },
  {
   "cell_type": "code",
   "execution_count": 22,
   "metadata": {
    "id": "QUkfEm9CQvWa"
   },
   "outputs": [
    {
     "name": "stdout",
     "output_type": "stream",
     "text": [
      "Números pares: 5\n",
      "Números ímpares: 5\n"
     ]
    }
   ],
   "source": [
    "pares = 0\n",
    "impares = 0\n",
    "for i in range(10):\n",
    "    num = int(input(\"Digite um número:\"))\n",
    "    if num % 2 == 0:\n",
    "        pares += 1\n",
    "    else:\n",
    "        impares += 1\n",
    "print(f\"Números pares: {pares}\")\n",
    "print(f\"Números ímpares: {impares}\")\n"
   ]
  },
  {
   "cell_type": "markdown",
   "metadata": {
    "id": "jivgY60PQxeX"
   },
   "source": [
    "15- A série de Fibonacci é formada pela sequência 1,1,2,3,5,8,13,21,34,55,... Faça um programa capaz de gerar a série até o n−ésimo termo."
   ]
  },
  {
   "cell_type": "code",
   "execution_count": 30,
   "metadata": {
    "id": "a31HxmdsQyUU"
   },
   "outputs": [
    {
     "name": "stdout",
     "output_type": "stream",
     "text": [
      "O ultimo número é 34\n",
      "Sequencia completa [0, 1, 1, 2, 3, 5, 8, 13, 21, 34]\n"
     ]
    }
   ],
   "source": [
    "num = int(input(\"Digite o n-ésimo termo: \"))\n",
    "sequencia = [0,1]\n",
    "for i in range (num-2):\n",
    "    sequencia.append(sequencia[-1]+sequencia[-2])\n",
    "print(\"O ultimo número é\", sequencia[len(sequencia)-1])\n",
    "print(\"Sequencia completa\", sequencia)\n",
    "\n"
   ]
  }
 ],
 "metadata": {
  "colab": {
   "include_colab_link": true,
   "provenance": []
  },
  "kernelspec": {
   "display_name": "Python 3",
   "name": "python3"
  },
  "language_info": {
   "codemirror_mode": {
    "name": "ipython",
    "version": 3
   },
   "file_extension": ".py",
   "mimetype": "text/x-python",
   "name": "python",
   "nbconvert_exporter": "python",
   "pygments_lexer": "ipython3",
   "version": "3.12.1"
  }
 },
 "nbformat": 4,
 "nbformat_minor": 0
}
