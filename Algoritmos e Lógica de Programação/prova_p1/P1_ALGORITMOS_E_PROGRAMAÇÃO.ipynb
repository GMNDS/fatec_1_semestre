{
 "cells": [
  {
   "cell_type": "markdown",
   "metadata": {},
   "source": [
    "### 1. Peça o nome e mostre uma mensagem de boas vindas ao usuário."
   ]
  },
  {
   "cell_type": "code",
   "execution_count": 3,
   "metadata": {},
   "outputs": [
    {
     "name": "stdout",
     "output_type": "stream",
     "text": [
      "Bem vindo a primeira prova do semestre! Gabriel\n"
     ]
    }
   ],
   "source": [
    "nome = input(\"Olá, qual o seu nome?\")\n",
    "print(f\"Bem vindo a primeira prova do semestre! {nome}\")"
   ]
  },
  {
   "cell_type": "markdown",
   "metadata": {},
   "source": [
    "### 2.  Solicite ao usuário dois números. Apresente a Soma, Subtração, Divisão e Multiplicação destes dois números."
   ]
  },
  {
   "cell_type": "code",
   "execution_count": 7,
   "metadata": {},
   "outputs": [
    {
     "name": "stdout",
     "output_type": "stream",
     "text": [
      "Os números escolhidos foram 1 e 2\n",
      "A soma dos números é: 3.0\n",
      "A subtração dos números é: -1.0\n",
      "A multiplicação dos números é: 2.0\n",
      "A divisão dos números é: 0.5\n"
     ]
    }
   ],
   "source": [
    "# definição de variáveis\n",
    "num1 = input(\"Para começar digite um número\")\n",
    "num2 = input(\"Agora digite outro número\")\n",
    "# calculos das quatro operações básicas\n",
    "sum = float(num1) + float(num2)\n",
    "sub = float(num1) - float(num2)\n",
    "mult = float(num1) * float(num2)\n",
    "div = float(num1) / float(num2)\n",
    "# impressão de resultados\n",
    "print(f\"Os números escolhidos foram {num1} e {num2}\")\n",
    "print(f\"A soma dos números é: {sum}\")\n",
    "print(f\"A subtração dos números é: {sub}\")\n",
    "print(f\"A multiplicação dos números é: {mult}\")\n",
    "print(f\"A divisão dos números é: {div}\")"
   ]
  },
  {
   "cell_type": "markdown",
   "metadata": {},
   "source": [
    "### 3. Um novo modelo de carro, super econômico foi lançado. Ele faz 20 km com 1 litro de combustível. Cada litro de combustível custa R$ 5,00. Faça um programa que pergunte ao usuário quanto de dinheiro ele tem e em seguida diga quantos litros de combustível ele pode comprar e quantos kilometros o carro consegue andar com esta quantidade de combustível."
   ]
  },
  {
   "cell_type": "code",
   "execution_count": 10,
   "metadata": {},
   "outputs": [
    {
     "name": "stdout",
     "output_type": "stream",
     "text": [
      "Com R$100 você pode comprar 20.0 litros de gasolina\n",
      "Com essa quantidade de gasolina você pode percorrer 400.0 km\n"
     ]
    }
   ],
   "source": [
    "## definição de variáveis\n",
    "km_litro = 20\n",
    "custo_litro = 5.00\n",
    "valor = input(\"Digite a quantidade de dinheiro que você tem\")\n",
    "# calculo de litros e distancia\n",
    "litros = float(valor) / custo_litro\n",
    "distancia = litros * km_litro\n",
    "# impressão de resultados\n",
    "print(f\"Com R${valor} você pode comprar {litros} litros de gasolina\")\n",
    "print(f\"Com essa quantidade de gasolina você pode percorrer {distancia} km\")"
   ]
  },
  {
   "cell_type": "markdown",
   "metadata": {},
   "source": [
    "### 4. Sendo v1 = 15, v2 = 10, v3 = 5, v4 = 0, defina qual será a resposta (VERDADEIRO OU FALSO) para as sentenças lógicas abaixo.\n",
    "\n",
    "a) (v1 = 10) AND (v2 = 10)\n",
    "\n",
    "b) (v1 = 15) AND (v2 = 10)\n",
    "\n",
    "c) (v4 = 1) OR (v3 = 4)\n",
    "\n",
    "d) (v1 > 10 AND v2 < 15) AND (v3 < 10 AND v4 = 0)\n",
    "\n",
    "e) (v1 < 10 AND v2 > 15) OR (v3 > 5 OR v4 = 0)"
   ]
  },
  {
   "cell_type": "code",
   "execution_count": 33,
   "metadata": {},
   "outputs": [
    {
     "name": "stdout",
     "output_type": "stream",
     "text": [
      " o valor de a é False\n",
      " o valor de b é True\n",
      " o valor de c é False\n",
      " o valor de d é True\n",
      " o valor de e é True\n"
     ]
    }
   ],
   "source": [
    "# Definição de variáveis\n",
    "v1 = 15\n",
    "v2 = 10\n",
    "v3 = 5\n",
    "v4 = 0\n",
    "# verificação de setenças lógicas\n",
    "a = v1 == 10 and v2 == 10\n",
    "b = v1 == 15 and v2 == 10\n",
    "c = v4 == 1 or v3 == 4\n",
    "d = (v1 > 10 and v2 < 15) and (v3 < 10 and v4 == 0)\n",
    "e = (v1 < 10 and v2 > 15) or (v3 > 5 or v4 == 0)\n",
    "# impressão de resultados\n",
    "print(f\" o valor de a é {a}\\n o valor de b é {b}\\n o valor de c é {c}\\n o valor de d é {d}\\n o valor de e é {e}\")\n"
   ]
  },
  {
   "cell_type": "markdown",
   "metadata": {},
   "source": [
    "### 5. Solicite ao usuário uma quantidade de dias (utilizar sempre números inteiros, por exemplo: 523), o programa deve informar com base neste número: a quantidade de anos, meses e dias correspondente ao número informado. Considerar para um ano 360 dias e para um mês 30 dias.\n"
   ]
  },
  {
   "cell_type": "code",
   "execution_count": 36,
   "metadata": {},
   "outputs": [
    {
     "name": "stdout",
     "output_type": "stream",
     "text": [
      "O tempo digitado corresponde a 9 anos, 10 meses e 3 dias\n"
     ]
    }
   ],
   "source": [
    "# Definição de variáveis\n",
    "dias = input(\"Digite uma quantidade de dias(digite um número inteiro)\")\n",
    "# calculo de anos, meses e dias\n",
    "anos = int(dias) // 360\n",
    "meses = (int(dias) % 360) // 30\n",
    "dias = (int(dias) % 360) % 30\n",
    "# impressão de resultados\n",
    "print(f\"O tempo digitado corresponde a {anos} anos, {meses} meses e {dias} dias\")"
   ]
  },
  {
   "cell_type": "markdown",
   "metadata": {},
   "source": [
    "### 6. Sabendo que A, B e C são variáveis do tipo inteiro, com valores iguais a 5, 10 e -8, respectivamente, e uma variável do tipo real D, com valor de 1,5. Quais os resultados das expressões aritméticas a seguir?\n",
    "\n",
    "a) 2 * A mod 3 – C\n",
    "\n",
    "b) raizq(-2 * C) div 4\n",
    "\n",
    "c) ((20 div 3) div 3) + pot(8,2)/2\n",
    "\n",
    "d) (30 mod 4 * pot(3,3)) * -1\n",
    "\n",
    "e) pot(-C,2) + (D * 10)/A\n",
    "\n",
    "f) raizq(pot(A,B/A)) + C * D\n",
    "\n",
    "Obs:\n",
    "\n",
    "mod ==> resto inteiro da divisão\n",
    "\n",
    "raizq ==> raiz quadrada (não utilizar funções prontas - utilize a exponenciação)\n",
    "\n",
    "div ==> divisão inteira\n",
    "\n",
    "pot ==> exponenciação (exemplo: pot(3,2) = 3 ** 2 )\n"
   ]
  },
  {
   "cell_type": "code",
   "execution_count": 62,
   "metadata": {},
   "outputs": [
    {
     "name": "stdout",
     "output_type": "stream",
     "text": [
      "O valor de a é 10\n",
      "O valor de b é 2.0\n",
      "O valor de c é 34.0\n",
      "O valor de d é -54\n",
      "O valor de e é 67.0\n",
      "O valor de f é -7.0\n"
     ]
    }
   ],
   "source": [
    "# Definição de variáveis\n",
    "a = 5\n",
    "b = 10\n",
    "c = -8\n",
    "d = 1.5\n",
    "# calculos\n",
    "a_ = (2 * a) % (3 - c)\n",
    "b_ =  ((-2 * c) ** 1/2)//4\n",
    "c_ =  ((20//3)//3) + (8**2/2)\n",
    "d_ = (30%4*3**3)*-1\n",
    "e_ = -c**2  + (d*10)/a\n",
    "f_ = ((a ** (b/a)) ** (1/2)) + (c * d)\n",
    "# impressão de resultados\n",
    "print(f\"O valor de a é {a_}\\nO valor de b é {b_}\\nO valor de c é {c_}\\nO valor de d é {d_}\\nO valor de e é {e_}\\nO valor de f é {f_}\")\n",
    "\n",
    "\n",
    "\n"
   ]
  }
 ],
 "metadata": {
  "kernelspec": {
   "display_name": "Python 3",
   "language": "python",
   "name": "python3"
  },
  "language_info": {
   "codemirror_mode": {
    "name": "ipython",
    "version": 3
   },
   "file_extension": ".py",
   "mimetype": "text/x-python",
   "name": "python",
   "nbconvert_exporter": "python",
   "pygments_lexer": "ipython3",
   "version": "3.10.6"
  }
 },
 "nbformat": 4,
 "nbformat_minor": 2
}
