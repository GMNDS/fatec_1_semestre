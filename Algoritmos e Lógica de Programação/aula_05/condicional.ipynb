{
  "cells": [
    {
      "cell_type": "markdown",
      "metadata": {
        "colab_type": "text",
        "id": "view-in-github"
      },
      "source": [
        "<a href=\"https://colab.research.google.com/github/ProfAndersonVanin/FATEC_ALGORITMOS_2SEM2024/blob/main/Estrutura_Condicional_FATEC.ipynb\" target=\"_parent\"><img src=\"https://colab.research.google.com/assets/colab-badge.svg\" alt=\"Open In Colab\"/></a>"
      ]
    },
    {
      "cell_type": "markdown",
      "metadata": {
        "id": "oYtbsCJCIcLe"
      },
      "source": [
        "# **ESTRUTURAS CONDICIONAIS EM PYTHON**"
      ]
    },
    {
      "cell_type": "markdown",
      "metadata": {
        "id": "1_BuSh45Inx_"
      },
      "source": [
        "# 1. Introdução às Estruturas Condicionais\n",
        "- Conceito e finalidade.\n",
        "- Como as estruturas condicionais permitem a tomada de decisões em um programa\n"
      ]
    },
    {
      "cell_type": "markdown",
      "metadata": {
        "id": "1-H5a9OpItH-"
      },
      "source": [
        "# 2. Sintaxe do if, elif, e else\n",
        "- Estrutura básica:\n"
      ]
    },
    {
      "cell_type": "code",
      "execution_count": null,
      "metadata": {
        "id": "rp16N6M1I7km"
      },
      "outputs": [],
      "source": [
        "# ..."
      ]
    },
    {
      "cell_type": "markdown",
      "metadata": {
        "id": "WBnlfo1YI43u"
      },
      "source": [
        "- Exemplos práticos"
      ]
    },
    {
      "cell_type": "code",
      "execution_count": null,
      "metadata": {
        "id": "5077BjrGISc2"
      },
      "outputs": [],
      "source": [
        "# ..."
      ]
    },
    {
      "cell_type": "markdown",
      "metadata": {
        "id": "qahQSKscJBX9"
      },
      "source": [
        "# 3. Operadores de Comparação e Lógicos\n",
        "- Revisão dos operadores: `==, !=, <, >, <=, >=`.\n",
        "- Revisão dos operadores lógicos: `and, or, not`.\n"
      ]
    },
    {
      "cell_type": "code",
      "execution_count": null,
      "metadata": {
        "id": "pw7QvR20JHYn"
      },
      "outputs": [],
      "source": [
        "# ..."
      ]
    },
    {
      "cell_type": "markdown",
      "metadata": {
        "id": "-4n8_zIpJLJu"
      },
      "source": [
        "# 4. Exemplos Práticos\n",
        "- Exemplo 1: Verificar se um número é par ou ímpar.\n"
      ]
    },
    {
      "cell_type": "code",
      "execution_count": null,
      "metadata": {
        "id": "2S7TBXN5JN0O"
      },
      "outputs": [],
      "source": [
        "# ..."
      ]
    },
    {
      "cell_type": "markdown",
      "metadata": {
        "id": "76ln5wUUJRju"
      },
      "source": [
        "- Exemplo 2: Verificar se um aluno foi aprovado, reprovado ou se está em recuperação."
      ]
    },
    {
      "cell_type": "code",
      "execution_count": null,
      "metadata": {
        "id": "7hOV-f5mJT18"
      },
      "outputs": [],
      "source": [
        "# ..."
      ]
    },
    {
      "cell_type": "markdown",
      "metadata": {
        "id": "VFm8-28wJXuH"
      },
      "source": [
        "- Exemplo 3: Identificar se uma pessoa pode votar."
      ]
    },
    {
      "cell_type": "code",
      "execution_count": null,
      "metadata": {
        "id": "39BjBkBzJZzn"
      },
      "outputs": [],
      "source": [
        "# ..."
      ]
    },
    {
      "cell_type": "markdown",
      "metadata": {
        "id": "OILQbqT6Jg6d"
      },
      "source": [
        "# **Lista de Exercícios:**"
      ]
    },
    {
      "cell_type": "markdown",
      "metadata": {
        "id": "OhajSa8-Jiwv"
      },
      "source": [
        "1.\tCrie um programa que peça ao usuário para inserir um número e verifique se é positivo, negativo ou zero."
      ]
    },
    {
      "cell_type": "code",
      "execution_count": 3,
      "metadata": {},
      "outputs": [
        {
          "name": "stdout",
          "output_type": "stream",
          "text": [
            "Número é zero.\n"
          ]
        }
      ],
      "source": [
        "number = input(\"Digite um número: \");\n",
        "number = int(number);\n",
        "\n",
        "if number < 0:\n",
        "    print(\"Número negativo.\")\n",
        "elif number > 0:\n",
        "    print(\"Número positivo.\")\n",
        "else:    \n",
        "    print(\"Número é zero.\")\n"
      ]
    },
    {
      "cell_type": "markdown",
      "metadata": {
        "id": "MGRULY1uJljH"
      },
      "source": [
        "2.\tEscreva um código que verifique a idade de uma pessoa e imprima se ela é menor de idade, maior de idade ou idosa."
      ]
    },
    {
      "cell_type": "code",
      "execution_count": 8,
      "metadata": {},
      "outputs": [
        {
          "name": "stdout",
          "output_type": "stream",
          "text": [
            "Maior de idade.\n"
          ]
        }
      ],
      "source": [
        "idade = input(\"Digite sua idade: \")\n",
        "idade = int(idade)\n",
        "\n",
        "if idade < 18:\n",
        "    print(\"Menor de idade.\")\n",
        "elif idade >= 65:\n",
        "    print(\"Idoso.\")\n",
        "else:    \n",
        "    print(\"Maior de idade.\")\n"
      ]
    },
    {
      "cell_type": "markdown",
      "metadata": {
        "id": "hSC1gejzJn-X"
      },
      "source": [
        "3.\tFaça um programa que peça a nota de um aluno e informe se ele foi aprovado (nota >= 7), de recuperação (5 <= nota < 7) ou reprovado (nota < 5)."
      ]
    },
    {
      "cell_type": "code",
      "execution_count": 16,
      "metadata": {},
      "outputs": [
        {
          "name": "stdout",
          "output_type": "stream",
          "text": [
            "Nota inválida.\n"
          ]
        }
      ],
      "source": [
        "nota = input(\"Digite a nota do aluno: \")\n",
        "nota = float(nota)\n",
        "\n",
        "if nota < 0 or nota > 10:\n",
        "    print(\"Nota inválida.\")\n",
        "elif nota < 5:\n",
        "    print(\"Reprovado.\")\n",
        "elif nota >= 7:\n",
        "    print(\"Aprovado.\")\n",
        "else:\n",
        "    print(\"Recuperação.\")"
      ]
    },
    {
      "cell_type": "markdown",
      "metadata": {
        "id": "dLmLWyOrJqzX"
      },
      "source": [
        "4.\tCrie um sistema que determine se uma pessoa pode tirar carteira de motorista (idade mínima de 18 anos)."
      ]
    },
    {
      "cell_type": "code",
      "execution_count": null,
      "metadata": {},
      "outputs": [],
      "source": [
        "print(\"Será que você pode tirar carta de motorista? Descubra!\")\n",
        "idade = input(\"Digite sua idade: \")\n",
        "idade = int(idade)\n",
        "\n",
        "if idade < 18:\n",
        "    print(\"Você não pode tirar carteira de motorista.\")\n",
        "else:\n",
        "    print(\"Você pode tirar carteira de motorista.\")\n"
      ]
    },
    {
      "cell_type": "markdown",
      "metadata": {
        "id": "MvuFRPn8Jtoo"
      },
      "source": [
        "5.\tDesenvolva um programa que verifique se um ano é bissexto."
      ]
    },
    {
      "cell_type": "code",
      "execution_count": 18,
      "metadata": {},
      "outputs": [
        {
          "name": "stdout",
          "output_type": "stream",
          "text": [
            "Ano bissexto.\n"
          ]
        }
      ],
      "source": [
        "ano = input(\"Digite o ano: \")\n",
        "ano = int(ano)\n",
        "\n",
        "if ano % 4 == 0 and ano % 100 != 0 or ano % 400 == 0:\n",
        "    print(\"Ano bissexto.\")\n",
        "else:\n",
        "    print(\"Ano não bissexto.\")"
      ]
    },
    {
      "cell_type": "markdown",
      "metadata": {
        "id": "_jS31FX3JvrG"
      },
      "source": [
        "6.\tEscreva um código que peça ao usuário para inserir uma letra e informe se ela é uma vogal ou uma consoante."
      ]
    },
    {
      "cell_type": "code",
      "execution_count": 19,
      "metadata": {},
      "outputs": [
        {
          "name": "stdout",
          "output_type": "stream",
          "text": [
            "Vogal.\n"
          ]
        }
      ],
      "source": [
        "letra = input(\"Digite uma letra: \")\n",
        "\n",
        "if letra == \"a\" or letra == \"e\" or letra == \"i\" or letra == \"o\" or letra == \"u\":\n",
        "    print(\"Vogal.\")\n",
        "else:\n",
        "    print(\"Consoante.\")"
      ]
    },
    {
      "cell_type": "markdown",
      "metadata": {},
      "source": [
        "7.\tCrie um programa que peça o nome de um mês e informe quantos dias ele tem.\n"
      ]
    },
    {
      "cell_type": "code",
      "execution_count": null,
      "metadata": {},
      "outputs": [],
      "source": []
    },
    {
      "cell_type": "markdown",
      "metadata": {
        "id": "EEY-66tcJ3Rc"
      },
      "source": [
        "8.\tDesenvolva um sistema que determine se um número é múltiplo de 3 e 5."
      ]
    },
    {
      "cell_type": "markdown",
      "metadata": {
        "id": "9Su10vicJ4wq"
      },
      "source": [
        "9.\tFaça um código que peça ao usuário seu salário e calcule o imposto a ser pago (faixas: até `R$ 1.000`, isento; `R$ 1.001` a `R$ 3.000`, 10%; acima de `R$ 3.000`, 20%)."
      ]
    },
    {
      "cell_type": "markdown",
      "metadata": {
        "id": "p_W20MikJ6iU"
      },
      "source": [
        "10.\tCrie um programa que pergunte a temperatura em graus Celsius e informe se está frio (abaixo de 15°C), ameno (15°C a 25°C) ou quente (acima de 25°C).\n"
      ]
    },
    {
      "cell_type": "markdown",
      "metadata": {
        "id": "luRj3PH1J8F7"
      },
      "source": [
        "11.\tEscreva um código que determine se um número é primo.\n"
      ]
    },
    {
      "cell_type": "markdown",
      "metadata": {
        "id": "cHgBQKKNJ9YC"
      },
      "source": [
        "12.\tFaça um programa que peça o ano de nascimento e informe a classe de idade (0-12 anos, 13-17 anos, 18-59 anos, 60 anos ou mais).\n"
      ]
    },
    {
      "cell_type": "markdown",
      "metadata": {
        "id": "HPQnV-dZJ-mL"
      },
      "source": [
        "13.\tCrie um sistema que verifique se um triângulo é equilátero, isósceles ou escaleno com base nos comprimentos dos lados."
      ]
    },
    {
      "cell_type": "markdown",
      "metadata": {
        "id": "KO5c2G87J_ki"
      },
      "source": [
        "# **DESAFIOS**"
      ]
    },
    {
      "cell_type": "markdown",
      "metadata": {
        "id": "Tf6ANOFHKCSq"
      },
      "source": [
        "14.\tDesenvolva um programa que peça ao usuário um número e informe a tabela de multiplicação desse número.\n",
        "\n"
      ]
    },
    {
      "cell_type": "markdown",
      "metadata": {
        "id": "IVM3IesrKFie"
      },
      "source": [
        "15.\tEscreva um código que verifique se uma senha é válida (mínimo de 8 caracteres, pelo menos uma letra e um número)."
      ]
    }
  ],
  "metadata": {
    "colab": {
      "authorship_tag": "ABX9TyPiKEKf7czA9IbLsdXIaAeV",
      "include_colab_link": true,
      "provenance": []
    },
    "kernelspec": {
      "display_name": "Python 3",
      "name": "python3"
    },
    "language_info": {
      "codemirror_mode": {
        "name": "ipython",
        "version": 3
      },
      "file_extension": ".py",
      "mimetype": "text/x-python",
      "name": "python",
      "nbconvert_exporter": "python",
      "pygments_lexer": "ipython3",
      "version": "3.12.1"
    }
  },
  "nbformat": 4,
  "nbformat_minor": 0
}
