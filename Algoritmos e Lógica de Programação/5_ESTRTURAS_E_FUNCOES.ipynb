{
 "cells": [
  {
   "cell_type": "markdown",
   "metadata": {
    "colab_type": "text",
    "id": "view-in-github"
   },
   "source": [
    "<a href=\"https://colab.research.google.com/github/ProfAndersonVanin/FATEC_ALGORITMOS_2SEM2024/blob/main/AULA_05_11_24_FATEC.ipynb\" target=\"_parent\"><img src=\"https://colab.research.google.com/assets/colab-badge.svg\" alt=\"Open In Colab\"/></a>"
   ]
  },
  {
   "cell_type": "markdown",
   "metadata": {
    "id": "4GFL_EBpwhRI"
   },
   "source": [
    "# **REVISÃO AULA PASSADA - LAÇOS FOR E WHILE**"
   ]
  },
  {
   "cell_type": "code",
   "execution_count": null,
   "metadata": {
    "id": "uJgTBR6xwTrL"
   },
   "outputs": [],
   "source": [
    "# Exemplo de laço for\n",
    "for i in range(5):\n",
    "    print(\"Executando for, iteração:\", i)"
   ]
  },
  {
   "cell_type": "code",
   "execution_count": null,
   "metadata": {
    "id": "xXcg44sGwr4J"
   },
   "outputs": [],
   "source": [
    "# Exemplo de laço while\n",
    "contador = 0\n",
    "while contador < 5:\n",
    "    print(\"Executando while, contador:\", contador)\n",
    "    contador += 1"
   ]
  },
  {
   "cell_type": "markdown",
   "metadata": {
    "id": "GU2_RjoP3EFj"
   },
   "source": [
    "\n",
    "\n",
    "---\n",
    "\n"
   ]
  },
  {
   "cell_type": "markdown",
   "metadata": {
    "id": "4NfkUh-w1uUD"
   },
   "source": [
    "# **LISTAS, TUPLAS E DICIONÁRIOS**"
   ]
  },
  {
   "cell_type": "markdown",
   "metadata": {
    "id": "kMn7QxoG15BU"
   },
   "source": [
    "Esses são conceitos essenciais para trabalhar com coleções de dados no Python e possuem características e usos específicos."
   ]
  },
  {
   "cell_type": "markdown",
   "metadata": {
    "id": "n_U8KARB16A0"
   },
   "source": [
    "## 1. LISTAS\n",
    "\n",
    "As listas são coleções mutáveis, o que significa que você pode modificar, adicionar ou remover elementos após a criação. Listas são definidas usando colchetes `[]`.\n",
    "\n",
    "**Exemplo 1: Criando uma lista e acessando elementos**"
   ]
  },
  {
   "cell_type": "code",
   "execution_count": null,
   "metadata": {
    "id": "m3dMP1y12EsW"
   },
   "outputs": [],
   "source": [
    "# Criando uma lista de frutas\n",
    "frutas = [\"maçã\", \"banana\", \"laranja\"]\n",
    "\n",
    "# Acessando elementos\n",
    "print(frutas[0])  # Output: maçã\n",
    "print(frutas[1])  # Output: banana\n",
    "print(frutas[2])  # Output: laranja\n"
   ]
  },
  {
   "cell_type": "markdown",
   "metadata": {
    "id": "KyI3dC_F2L6n"
   },
   "source": [
    "**Exemplo 2: Adicionando e removendo elementos**"
   ]
  },
  {
   "cell_type": "code",
   "execution_count": null,
   "metadata": {
    "id": "upfu6ARp2PU4"
   },
   "outputs": [],
   "source": [
    "# Adicionando uma fruta à lista\n",
    "frutas.append(\"uva\")\n",
    "print(frutas)  # Output: ['maçã', 'banana', 'laranja', 'uva']\n",
    "\n",
    "# Removendo uma fruta da lista\n",
    "frutas.remove(\"banana\")\n",
    "print(frutas)  # Output: ['maçã', 'laranja', 'uva']\n"
   ]
  },
  {
   "cell_type": "markdown",
   "metadata": {
    "id": "yGXZWQ-22ROv"
   },
   "source": [
    "**Exemplo 3: Iterando sobre uma lista**"
   ]
  },
  {
   "cell_type": "code",
   "execution_count": null,
   "metadata": {
    "id": "Mb28OlpT2TNm"
   },
   "outputs": [],
   "source": [
    "# Exibindo cada fruta da lista\n",
    "for fruta in frutas:\n",
    "    print(fruta)\n",
    "# Output:\n",
    "# maçã\n",
    "# laranja\n",
    "# uva"
   ]
  },
  {
   "cell_type": "markdown",
   "metadata": {
    "id": "GwpCxNzC2Wne"
   },
   "source": [
    "## 2. TUPLAS\n",
    "\n",
    "As tuplas são semelhantes às listas, mas são imutáveis, ou seja, depois de criadas, seus elementos não podem ser alterados. Tuplas são definidas usando parênteses `()`.\n",
    "\n",
    "**Exemplo 1: Criando uma tupla e acessando elementos**"
   ]
  },
  {
   "cell_type": "code",
   "execution_count": null,
   "metadata": {
    "id": "xVcCDLWC2crp"
   },
   "outputs": [],
   "source": [
    "# Criando uma tupla de números\n",
    "numeros = (1, 2, 3)\n",
    "\n",
    "# Acessando elementos\n",
    "print(numeros[0])  # Output: 1\n",
    "print(numeros[1])  # Output: 2\n",
    "print(numeros[2])  # Output: 3"
   ]
  },
  {
   "cell_type": "markdown",
   "metadata": {
    "id": "ffoIcA-Q2e94"
   },
   "source": [
    "**Exemplo 2: Usando tuplas para armazenar dados imutáveis**"
   ]
  },
  {
   "cell_type": "code",
   "execution_count": null,
   "metadata": {
    "id": "Ve0j8eW22gEH"
   },
   "outputs": [],
   "source": [
    "# Coordenadas geográficas de uma cidade\n",
    "coordenadas = (40.7128, -74.0060)  # Latitude e Longitude de Nova York\n",
    "\n",
    "# Exibindo as coordenadas\n",
    "print(f\"Latitude: {coordenadas[0]}, Longitude: {coordenadas[1]}\")\n",
    "# Output: Latitude: 40.7128, Longitude: -74.006"
   ]
  },
  {
   "cell_type": "markdown",
   "metadata": {
    "id": "V3HO2ZO12jSx"
   },
   "source": [
    "**Exemplo 3: Desempacotando valores de uma tupla**"
   ]
  },
  {
   "cell_type": "code",
   "execution_count": null,
   "metadata": {
    "id": "j4AJMpvq2lUp"
   },
   "outputs": [],
   "source": [
    "# Desempacotando uma tupla em variáveis\n",
    "(a, b) = (5, 10)\n",
    "print(a)  # Output: 5\n",
    "print(b)  # Output: 10\n"
   ]
  },
  {
   "cell_type": "markdown",
   "metadata": {
    "id": "ol7Itt0v2oAo"
   },
   "source": [
    "## 3. Dicionários\n",
    "\n",
    "Os dicionários são coleções mutáveis de pares de chave-valor. Você usa chaves `{}` para defini-los, com cada item sendo uma combinação de uma chave e um valor, como \"nome\": \"Maria\".\n",
    "\n",
    "**Exemplo 1: Criando e acessando elementos de um dicionário**"
   ]
  },
  {
   "cell_type": "code",
   "execution_count": null,
   "metadata": {
    "id": "btvtLxER2tEY"
   },
   "outputs": [],
   "source": [
    "# Criando um dicionário de informações de uma pessoa\n",
    "pessoa = {\"nome\": \"Maria\", \"idade\": 25, \"cidade\": \"São Paulo\"}\n",
    "\n",
    "# Acessando valores\n",
    "print(pessoa[\"nome\"])  # Output: Maria\n",
    "print(pessoa[\"idade\"])  # Output: 25\n"
   ]
  },
  {
   "cell_type": "markdown",
   "metadata": {
    "id": "haZjVgq_2vfY"
   },
   "source": [
    "**Exemplo 2: Adicionando e atualizando valores**"
   ]
  },
  {
   "cell_type": "code",
   "execution_count": null,
   "metadata": {
    "id": "QknoDyv72xLg"
   },
   "outputs": [],
   "source": [
    "# Adicionando um novo par chave-valor\n",
    "pessoa[\"profissão\"] = \"Engenheira\"\n",
    "print(pessoa)  # Output: {'nome': 'Maria', 'idade': 25, 'cidade': 'São Paulo', 'profissão': 'Engenheira'}\n",
    "\n",
    "# Atualizando um valor existente\n",
    "pessoa[\"idade\"] = 26\n",
    "print(pessoa)  # Output: {'nome': 'Maria', 'idade': 26, 'cidade': 'São Paulo', 'profissão': 'Engenheira'}\n"
   ]
  },
  {
   "cell_type": "markdown",
   "metadata": {
    "id": "GEauqz_A2y6h"
   },
   "source": [
    "**Exemplo 3: Iterando sobre chaves e valores**"
   ]
  },
  {
   "cell_type": "code",
   "execution_count": null,
   "metadata": {
    "id": "5xsDh1kG20bR"
   },
   "outputs": [],
   "source": [
    "# Iterando sobre as chaves e valores do dicionário\n",
    "for chave, valor in pessoa.items():\n",
    "    print(f\"{chave}: {valor}\")\n",
    "# Output:\n",
    "# nome: Maria\n",
    "# idade: 26\n",
    "# cidade: São Paulo\n",
    "# profissão: Engenheira"
   ]
  },
  {
   "cell_type": "markdown",
   "metadata": {
    "id": "pBJ_fD6E24pa"
   },
   "source": [
    "- **Listas** são mutáveis, definidas por `[]`, e permitem operações como adição, remoção e modificação.\n",
    "- **Tuplas** são imutáveis, definidas por `()`, e são usadas para dados que não devem ser alterados.\n",
    "- **Dicionários** são coleções de pares chave-valor, definidas por `{}`, e permitem acessar, adicionar, atualizar e remover dados.\n",
    "\n",
    "Essas estruturas são fundamentais para manipulação de dados em Python, cada uma com suas próprias características e vantagens."
   ]
  },
  {
   "cell_type": "markdown",
   "metadata": {
    "id": "x1dzgmW53B5a"
   },
   "source": [
    "\n",
    "\n",
    "---\n",
    "\n"
   ]
  },
  {
   "cell_type": "markdown",
   "metadata": {
    "id": "wasUGLyXwmS4"
   },
   "source": [
    "# **Funções Criadas pelo Usuário**"
   ]
  },
  {
   "cell_type": "markdown",
   "metadata": {
    "id": "BMkgyGhO3sim"
   },
   "source": [
    "- sem retorno e sem parâmetros\n",
    "- sem retorno e com parâmetros\n",
    "- com retorno e sem parâmetros\n",
    "- com retorno e com parâmetros"
   ]
  },
  {
   "cell_type": "markdown",
   "metadata": {
    "id": "tY5mPDIt3wnY"
   },
   "source": [
    "## 1. Função sem retorno e sem parâmetros\n",
    "Essas funções realizam uma tarefa, mas não recebem dados nem retornam valores. Elas apenas executam um bloco de código.\n",
    "\n",
    "**Exemplo:**"
   ]
  },
  {
   "cell_type": "code",
   "execution_count": null,
   "metadata": {
    "id": "VEQDGIpQ30p-"
   },
   "outputs": [],
   "source": [
    "def saudacao():\n",
    "    print(\"Olá! Bem-vindo ao curso.\")\n",
    "\n",
    "# Chamando a função\n",
    "saudacao()\n",
    "# Output: Olá! Bem-vindo ao curso."
   ]
  },
  {
   "cell_type": "markdown",
   "metadata": {
    "id": "yMq9dFYk3343"
   },
   "source": [
    "## 2. Função sem retorno e com parâmetros\n",
    "Essas funções recebem dados como entrada, mas não retornam nenhum valor. São úteis para operações que apenas executam uma ação com os dados fornecidos.\n",
    "\n",
    "**Exemplo:**"
   ]
  },
  {
   "cell_type": "code",
   "execution_count": null,
   "metadata": {
    "id": "BD_syBJu37mY"
   },
   "outputs": [],
   "source": [
    "def exibir_mensagem(nome):\n",
    "    print(f\"Olá, {nome}! Como vai?\")\n",
    "\n",
    "# Chamando a função com um argumento\n",
    "exibir_mensagem(\"Ana\")\n",
    "# Output: Olá, Ana! Como vai?\n"
   ]
  },
  {
   "cell_type": "markdown",
   "metadata": {
    "id": "7Q_5jwBm3-OH"
   },
   "source": [
    "## 3. Função com retorno e sem parâmetros\n",
    "Essas funções não recebem dados de entrada, mas retornam um valor. Isso é útil para funções que realizam algum cálculo ou geram um valor que será utilizado posteriormente.\n",
    "\n",
    "**Exemplo:**"
   ]
  },
  {
   "cell_type": "code",
   "execution_count": null,
   "metadata": {
    "id": "cFA45bPQ4Cbg"
   },
   "outputs": [],
   "source": [
    "def obter_mensagem():\n",
    "    return \"Bem-vindo ao Python!\"\n",
    "\n",
    "# Armazenando o retorno da função em uma variável\n",
    "mensagem = obter_mensagem()\n",
    "print(mensagem)\n",
    "# Output: Bem-vindo ao Python!\n"
   ]
  },
  {
   "cell_type": "markdown",
   "metadata": {
    "id": "fsEwTG994E0g"
   },
   "source": [
    "## 4. Função com retorno e com parâmetros\n",
    "Essas funções recebem dados de entrada e retornam um valor. São úteis para funções que processam dados e retornam um resultado.\n",
    "\n",
    "**Exemplo:**"
   ]
  },
  {
   "cell_type": "code",
   "execution_count": null,
   "metadata": {
    "id": "2CaBUKWE4HsQ"
   },
   "outputs": [],
   "source": [
    "def somar(a, b):\n",
    "    return a + b\n",
    "\n",
    "# Chamando a função e usando o valor retornado\n",
    "resultado = somar(5, 3)\n",
    "print(resultado)\n",
    "# Output: 8"
   ]
  },
  {
   "cell_type": "markdown",
   "metadata": {
    "id": "WTFFmT2F4Mq3"
   },
   "source": [
    "## **Resum**o\n",
    "- **Sem retorno e sem parâmetro**s: Executa uma tarefa simples, sem entrada ou saída.\n",
    "- **Sem retorno e com parâmetros**: Realiza uma tarefa com dados fornecidos, sem retornar nada.\n",
    "- **Com retorno e sem parâmetros**: Retorna um valor calculado, sem precisar de entrada.\n",
    "- **Com retorno e com parâmetros**: Recebe dados, processa e retorna um valor.\n",
    "\n",
    "Essas combinações ajudam a criar funções flexíveis e reutilizáveis para diversas situações em Python."
   ]
  },
  {
   "cell_type": "markdown",
   "metadata": {
    "id": "7xSjAwajw3SQ"
   },
   "source": [
    "As funções são blocos de código que realizam tarefas específicas e podem ser reutilizados. Criamos uma função usando a palavra-chave def, seguida pelo nome da função e seus parâmetros."
   ]
  },
  {
   "cell_type": "code",
   "execution_count": null,
   "metadata": {
    "id": "pKyog3cWw6ZB"
   },
   "outputs": [],
   "source": [
    "def saudacao(nome):\n",
    "    return f\"Olá, {nome}!\"\n",
    "\n",
    "print(saudacao(\"Maria\"))"
   ]
  },
  {
   "cell_type": "markdown",
   "metadata": {
    "id": "ehdTMSOA4XzZ"
   },
   "source": [
    "\n",
    "\n",
    "---\n",
    "\n"
   ]
  },
  {
   "cell_type": "markdown",
   "metadata": {
    "id": "VSgGBzhOw-WA"
   },
   "source": [
    "# **Exercícios Propostos (Com Resolução)**"
   ]
  },
  {
   "cell_type": "markdown",
   "metadata": {
    "id": "JSdtOKL5xBeo"
   },
   "source": [
    "1. Imprimir Números de 1 a 10"
   ]
  },
  {
   "cell_type": "code",
   "execution_count": null,
   "metadata": {
    "id": "fbIkMKrrxAww"
   },
   "outputs": [],
   "source": [
    "for i in range(1, 11):\n",
    "    print(i)"
   ]
  },
  {
   "cell_type": "markdown",
   "metadata": {
    "id": "7ZJD9fTGxGrh"
   },
   "source": [
    "2. Soma dos Números Pares até 20"
   ]
  },
  {
   "cell_type": "code",
   "execution_count": null,
   "metadata": {
    "id": "YxsIe5hexLKx"
   },
   "outputs": [],
   "source": [
    "soma = 0\n",
    "for i in range(1, 21):\n",
    "    if i % 2 == 0:\n",
    "        soma += i\n",
    "print(\"Soma dos pares até 20:\", soma)\n"
   ]
  },
  {
   "cell_type": "markdown",
   "metadata": {
    "id": "x1X8JhpCxOMq"
   },
   "source": [
    "3. Contagem Regressiva"
   ]
  },
  {
   "cell_type": "code",
   "execution_count": null,
   "metadata": {
    "id": "_mnmEBg5xNaj"
   },
   "outputs": [],
   "source": [
    "for i in range(10, 0, -1):\n",
    "    print(i)\n",
    "print(\"Lançar!\")"
   ]
  },
  {
   "cell_type": "markdown",
   "metadata": {
    "id": "ucM2Xbl7xSEq"
   },
   "source": [
    "4. Cálculo de Fatorial"
   ]
  },
  {
   "cell_type": "code",
   "execution_count": null,
   "metadata": {
    "id": "cQP-Gz20xVAr"
   },
   "outputs": [],
   "source": [
    "def fatorial(n):\n",
    "    resultado = 1\n",
    "    for i in range(1, n + 1):\n",
    "        resultado *= i\n",
    "    return resultado\n",
    "\n",
    "print(fatorial(5))  # Exemplo de uso"
   ]
  },
  {
   "cell_type": "markdown",
   "metadata": {
    "id": "cT05XsNdxZ4z"
   },
   "source": [
    "5. Verificar Número Primo"
   ]
  },
  {
   "cell_type": "code",
   "execution_count": null,
   "metadata": {
    "id": "ant5m9k9xbka"
   },
   "outputs": [],
   "source": [
    "def eh_primo(n):\n",
    "    if n < 2:\n",
    "        return False\n",
    "    for i in range(2, int(n ** 0.5) + 1):\n",
    "        if n % i == 0:\n",
    "            return False\n",
    "    return True\n",
    "\n",
    "print(eh_primo(7))  # Exemplo de uso"
   ]
  },
  {
   "cell_type": "markdown",
   "metadata": {
    "id": "-DKrm1eAxhBt"
   },
   "source": [
    "6. Soma dos Elementos de uma Lista"
   ]
  },
  {
   "cell_type": "code",
   "execution_count": null,
   "metadata": {
    "id": "Ck9eJYMtxiy2"
   },
   "outputs": [],
   "source": [
    "def soma_lista(lista):\n",
    "    soma = 0\n",
    "    for elemento in lista:\n",
    "        soma += elemento\n",
    "    return soma\n",
    "\n",
    "print(soma_lista([1, 2, 3, 4, 5]))  # Exemplo de uso"
   ]
  },
  {
   "cell_type": "markdown",
   "metadata": {
    "id": "2lFwup_Sxl-F"
   },
   "source": [
    "7. Tabuada"
   ]
  },
  {
   "cell_type": "code",
   "execution_count": null,
   "metadata": {
    "id": "Ser-61VUxoeT"
   },
   "outputs": [],
   "source": [
    "def tabuada(n):\n",
    "    for i in range(1, 11):\n",
    "        print(f\"{n} x {i} = {n * i}\")\n",
    "\n",
    "tabuada(7)  # Exemplo de uso"
   ]
  },
  {
   "cell_type": "markdown",
   "metadata": {
    "id": "gswnjWSAxrb8"
   },
   "source": [
    "8. Contagem de Vogais"
   ]
  },
  {
   "cell_type": "code",
   "execution_count": null,
   "metadata": {
    "id": "hvTrX9R-xs6U"
   },
   "outputs": [],
   "source": [
    "def conta_vogais(palavra):\n",
    "    vogais = \"aeiou\"\n",
    "    contador = 0\n",
    "    for letra in palavra.lower():\n",
    "        if letra in vogais:\n",
    "            contador += 1\n",
    "    return contador\n",
    "\n",
    "print(conta_vogais(\"Python\"))  # Exemplo de uso"
   ]
  },
  {
   "cell_type": "markdown",
   "metadata": {
    "id": "f0_THc4mx0A8"
   },
   "source": [
    "9. Sequência de Fibonacci"
   ]
  },
  {
   "cell_type": "code",
   "execution_count": null,
   "metadata": {
    "id": "HAIe6Lznx1Jl"
   },
   "outputs": [],
   "source": [
    "def fibonacci(n):\n",
    "    sequencia = [0, 1]\n",
    "    while len(sequencia) < n:\n",
    "        sequencia.append(sequencia[-1] + sequencia[-2])\n",
    "    return sequencia[:n]\n",
    "\n",
    "print(fibonacci(10))  # Exemplo de uso\n"
   ]
  },
  {
   "cell_type": "markdown",
   "metadata": {
    "id": "tBZUkFD4x50k"
   },
   "source": [
    "10. Converter Temperatura"
   ]
  },
  {
   "cell_type": "code",
   "execution_count": null,
   "metadata": {
    "id": "wcArAO1Px7g9"
   },
   "outputs": [],
   "source": [
    "def celsius_para_fahrenheit(c):\n",
    "    return c * 9 / 5 + 32\n",
    "\n",
    "print(celsius_para_fahrenheit(25))  # Exemplo de uso"
   ]
  },
  {
   "cell_type": "markdown",
   "metadata": {
    "id": "M7qtveYHx-qX"
   },
   "source": [
    "# **Exercícios para Prática dos Alunos**"
   ]
  },
  {
   "cell_type": "markdown",
   "metadata": {
    "id": "EupGD7UqyA4e"
   },
   "source": [
    "## 1. Quadrado dos Números de 1 a 10\n",
    "\n",
    "Crie uma função que exibe o quadrado dos números de 1 a 10."
   ]
  },
  {
   "cell_type": "code",
   "execution_count": 1,
   "metadata": {
    "id": "K777ynkzyGak"
   },
   "outputs": [
    {
     "name": "stdout",
     "output_type": "stream",
     "text": [
      "O quadrado de 1 é 1\n",
      "O quadrado de 2 é 4\n",
      "O quadrado de 3 é 9\n",
      "O quadrado de 4 é 16\n",
      "O quadrado de 5 é 25\n",
      "O quadrado de 6 é 36\n",
      "O quadrado de 7 é 49\n",
      "O quadrado de 8 é 64\n",
      "O quadrado de 9 é 81\n",
      "O quadrado de 10 é 100\n",
      "A soma dos quadrados é 385\n"
     ]
    }
   ],
   "source": [
    "def quadrados():\n",
    "    quadrados = []\n",
    "    for i in range(1,11):\n",
    "        quadrado = i ** 2\n",
    "        quadrados.append(quadrado)\n",
    "        print(f\"O quadrado de {i} é {quadrado}\")\n",
    "    quadrados_soma = sum(quadrados)\n",
    "    print(f\"A soma dos quadrados é {quadrados_soma}\")\n",
    "\n",
    "quadrados() "
   ]
  },
  {
   "cell_type": "markdown",
   "metadata": {
    "id": "nHhBAvsuyN1v"
   },
   "source": [
    "## 2. Produto dos Números de uma Lista\n",
    "\n",
    "Crie uma função que recebe uma lista e retorna o produto dos seus elementos."
   ]
  },
  {
   "cell_type": "code",
   "execution_count": 5,
   "metadata": {
    "id": "DMuoPW9o0oy2"
   },
   "outputs": [
    {
     "name": "stdout",
     "output_type": "stream",
     "text": [
      "120\n"
     ]
    }
   ],
   "source": [
    "import functools \n",
    "def produto_elementos(lista):\n",
    "    return functools.reduce(lambda x, y: x * y, lista)\n",
    "\n",
    "print(produto_elementos([1, 2, 3, 4, 5]))"
   ]
  },
  {
   "cell_type": "markdown",
   "metadata": {
    "id": "r_BNuBu40Owt"
   },
   "source": [
    "## 3. Cálculo da Média\n",
    "\n",
    "Escreva uma função que recebe uma lista de números e retorna a média aritmética."
   ]
  },
  {
   "cell_type": "code",
   "execution_count": 6,
   "metadata": {
    "id": "xQ2RWHwL0peE"
   },
   "outputs": [
    {
     "name": "stdout",
     "output_type": "stream",
     "text": [
      "3.0\n"
     ]
    }
   ],
   "source": [
    "def media(lista):\n",
    "    return sum(lista) / len(lista)\n",
    "print(media([1, 2, 3, 4, 5]))"
   ]
  },
  {
   "cell_type": "markdown",
   "metadata": {
    "id": "x3sX8XRy0P-N"
   },
   "source": [
    "## 4. Verificar Palíndromo\n",
    "\n",
    "Crie uma função que recebe uma palavra e verifica se é um palíndromo (lê-se igual de trás para frente)."
   ]
  },
  {
   "cell_type": "code",
   "execution_count": null,
   "metadata": {
    "id": "08UkaKVb0p5d"
   },
   "outputs": [
    {
     "name": "stdout",
     "output_type": "stream",
     "text": [
      "True\n",
      "False\n",
      "zorra\n"
     ]
    }
   ],
   "source": [
    "def e_palindromo(palavra):\n",
    "    return palavra == palavra[::-1]\n",
    "\n",
    "print(e_palindromo(\"ovo\"))\n",
    "print(e_palindromo(\"python\"))"
   ]
  },
  {
   "cell_type": "markdown",
   "metadata": {
    "id": "499uAnNc0Rns"
   },
   "source": [
    "## 5. Números Ímpares entre 1 e 20\n",
    "\n",
    "Escreva uma função que retorna uma lista com todos os números ímpares entre 1 e 20."
   ]
  },
  {
   "cell_type": "code",
   "execution_count": 12,
   "metadata": {
    "id": "1jDDP8wE0qR9"
   },
   "outputs": [
    {
     "name": "stdout",
     "output_type": "stream",
     "text": [
      "[1, 3, 5, 7, 9, 11, 13, 15, 17, 19]\n"
     ]
    }
   ],
   "source": [
    "def impares():\n",
    "    impares = []\n",
    "    for i in range(1,21):\n",
    "        if i % 2 != 0:\n",
    "            impares.append(i)\n",
    "    return impares\n",
    "\n",
    "print(impares())"
   ]
  },
  {
   "cell_type": "markdown",
   "metadata": {
    "id": "r0WNyuYB0R6M"
   },
   "source": [
    "## 6. Número Mínimo e Máximo em uma Lista\n",
    "\n",
    "Crie uma função que retorna o menor e o maior número de uma lista."
   ]
  },
  {
   "cell_type": "code",
   "execution_count": 10,
   "metadata": {
    "id": "_p_CSbEE0qvk"
   },
   "outputs": [
    {
     "name": "stdout",
     "output_type": "stream",
     "text": [
      "{'min': 1, 'max': 5}\n"
     ]
    }
   ],
   "source": [
    "def min_max(lista):\n",
    "    return {\"min\": min(lista), \"max\": max(lista)}\n",
    "print(min_max([1, 2, 3, 4, 5]))"
   ]
  }
 ],
 "metadata": {
  "colab": {
   "authorship_tag": "ABX9TyPii/TzYzZkgJndQOO/tNND",
   "include_colab_link": true,
   "provenance": []
  },
  "kernelspec": {
   "display_name": "Python 3",
   "name": "python3"
  },
  "language_info": {
   "codemirror_mode": {
    "name": "ipython",
    "version": 3
   },
   "file_extension": ".py",
   "mimetype": "text/x-python",
   "name": "python",
   "nbconvert_exporter": "python",
   "pygments_lexer": "ipython3",
   "version": "3.12.1"
  }
 },
 "nbformat": 4,
 "nbformat_minor": 0
}
