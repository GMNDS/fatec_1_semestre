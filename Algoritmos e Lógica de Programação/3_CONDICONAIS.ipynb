{
  "cells": [
    {
      "cell_type": "markdown",
      "metadata": {
        "colab_type": "text",
        "id": "view-in-github"
      },
      "source": [
        "<a href=\"https://colab.research.google.com/github/ProfAndersonVanin/FATEC_ALGORITMOS_2SEM2024/blob/main/Estrutura_Condicional_FATEC.ipynb\" target=\"_parent\"><img src=\"https://colab.research.google.com/assets/colab-badge.svg\" alt=\"Open In Colab\"/></a>"
      ]
    },
    {
      "cell_type": "markdown",
      "metadata": {
        "id": "oYtbsCJCIcLe"
      },
      "source": [
        "# **ESTRUTURAS CONDICIONAIS EM PYTHON**"
      ]
    },
    {
      "cell_type": "markdown",
      "metadata": {
        "id": "1_BuSh45Inx_"
      },
      "source": [
        "# 1. Introdução às Estruturas Condicionais\n",
        "- Conceito e finalidade.\n",
        "- Como as estruturas condicionais permitem a tomada de decisões em um programa\n"
      ]
    },
    {
      "cell_type": "markdown",
      "metadata": {
        "id": "1-H5a9OpItH-"
      },
      "source": [
        "# 2. Sintaxe do if, elif, e else\n",
        "- Estrutura básica:\n"
      ]
    },
    {
      "cell_type": "code",
      "execution_count": null,
      "metadata": {
        "id": "rp16N6M1I7km"
      },
      "outputs": [],
      "source": [
        "# ..."
      ]
    },
    {
      "cell_type": "markdown",
      "metadata": {
        "id": "WBnlfo1YI43u"
      },
      "source": [
        "- Exemplos práticos"
      ]
    },
    {
      "cell_type": "code",
      "execution_count": null,
      "metadata": {
        "id": "5077BjrGISc2"
      },
      "outputs": [],
      "source": [
        "# ..."
      ]
    },
    {
      "cell_type": "markdown",
      "metadata": {
        "id": "qahQSKscJBX9"
      },
      "source": [
        "# 3. Operadores de Comparação e Lógicos\n",
        "- Revisão dos operadores: `==, !=, <, >, <=, >=`.\n",
        "- Revisão dos operadores lógicos: `and, or, not`.\n"
      ]
    },
    {
      "cell_type": "code",
      "execution_count": null,
      "metadata": {
        "id": "pw7QvR20JHYn"
      },
      "outputs": [],
      "source": [
        "# ..."
      ]
    },
    {
      "cell_type": "markdown",
      "metadata": {
        "id": "-4n8_zIpJLJu"
      },
      "source": [
        "# 4. Exemplos Práticos\n",
        "- Exemplo 1: Verificar se um número é par ou ímpar.\n"
      ]
    },
    {
      "cell_type": "code",
      "execution_count": null,
      "metadata": {
        "id": "2S7TBXN5JN0O"
      },
      "outputs": [],
      "source": [
        "# ..."
      ]
    },
    {
      "cell_type": "markdown",
      "metadata": {
        "id": "76ln5wUUJRju"
      },
      "source": [
        "- Exemplo 2: Verificar se um aluno foi aprovado, reprovado ou se está em recuperação."
      ]
    },
    {
      "cell_type": "code",
      "execution_count": null,
      "metadata": {
        "id": "7hOV-f5mJT18"
      },
      "outputs": [],
      "source": [
        "# ..."
      ]
    },
    {
      "cell_type": "markdown",
      "metadata": {
        "id": "VFm8-28wJXuH"
      },
      "source": [
        "- Exemplo 3: Identificar se uma pessoa pode votar."
      ]
    },
    {
      "cell_type": "code",
      "execution_count": null,
      "metadata": {
        "id": "39BjBkBzJZzn"
      },
      "outputs": [],
      "source": [
        "# ..."
      ]
    },
    {
      "cell_type": "markdown",
      "metadata": {
        "id": "OILQbqT6Jg6d"
      },
      "source": [
        "# **Lista de Exercícios:**"
      ]
    },
    {
      "cell_type": "markdown",
      "metadata": {
        "id": "OhajSa8-Jiwv"
      },
      "source": [
        "1.\tCrie um programa que peça ao usuário para inserir um número e verifique se é positivo, negativo ou zero."
      ]
    },
    {
      "cell_type": "code",
      "execution_count": 3,
      "metadata": {},
      "outputs": [
        {
          "name": "stdout",
          "output_type": "stream",
          "text": [
            "Número é zero.\n"
          ]
        }
      ],
      "source": [
        "number = input(\"Digite um número: \");\n",
        "number = int(number);\n",
        "\n",
        "if number < 0:\n",
        "    print(\"Número negativo.\")\n",
        "elif number > 0:\n",
        "    print(\"Número positivo.\")\n",
        "else:    \n",
        "    print(\"Número é zero.\")\n"
      ]
    },
    {
      "cell_type": "markdown",
      "metadata": {
        "id": "MGRULY1uJljH"
      },
      "source": [
        "2.\tEscreva um código que verifique a idade de uma pessoa e imprima se ela é menor de idade, maior de idade ou idosa."
      ]
    },
    {
      "cell_type": "code",
      "execution_count": 8,
      "metadata": {},
      "outputs": [
        {
          "name": "stdout",
          "output_type": "stream",
          "text": [
            "Maior de idade.\n"
          ]
        }
      ],
      "source": [
        "idade = input(\"Digite sua idade: \")\n",
        "idade = int(idade)\n",
        "\n",
        "if idade < 18:\n",
        "    print(\"Menor de idade.\")\n",
        "elif idade >= 65:\n",
        "    print(\"Idoso.\")\n",
        "else:    \n",
        "    print(\"Maior de idade.\")\n"
      ]
    },
    {
      "cell_type": "markdown",
      "metadata": {
        "id": "hSC1gejzJn-X"
      },
      "source": [
        "3.\tFaça um programa que peça a nota de um aluno e informe se ele foi aprovado (nota >= 7), de recuperação (5 <= nota < 7) ou reprovado (nota < 5)."
      ]
    },
    {
      "cell_type": "code",
      "execution_count": 16,
      "metadata": {},
      "outputs": [
        {
          "name": "stdout",
          "output_type": "stream",
          "text": [
            "Nota inválida.\n"
          ]
        }
      ],
      "source": [
        "nota = input(\"Digite a nota do aluno: \")\n",
        "nota = float(nota)\n",
        "\n",
        "if nota < 0 or nota > 10:\n",
        "    print(\"Nota inválida.\")\n",
        "elif nota < 5:\n",
        "    print(\"Reprovado.\")\n",
        "elif nota >= 7:\n",
        "    print(\"Aprovado.\")\n",
        "else:\n",
        "    print(\"Recuperação.\")"
      ]
    },
    {
      "cell_type": "markdown",
      "metadata": {
        "id": "dLmLWyOrJqzX"
      },
      "source": [
        "4.\tCrie um sistema que determine se uma pessoa pode tirar carteira de motorista (idade mínima de 18 anos)."
      ]
    },
    {
      "cell_type": "code",
      "execution_count": null,
      "metadata": {},
      "outputs": [],
      "source": [
        "print(\"Será que você pode tirar carta de motorista? Descubra!\")\n",
        "idade = input(\"Digite sua idade: \")\n",
        "idade = int(idade)\n",
        "\n",
        "if idade < 18:\n",
        "    print(\"Você não pode tirar carteira de motorista.\")\n",
        "else:\n",
        "    print(\"Você pode tirar carteira de motorista.\")\n"
      ]
    },
    {
      "cell_type": "markdown",
      "metadata": {
        "id": "MvuFRPn8Jtoo"
      },
      "source": [
        "5.\tDesenvolva um programa que verifique se um ano é bissexto."
      ]
    },
    {
      "cell_type": "code",
      "execution_count": 18,
      "metadata": {},
      "outputs": [
        {
          "name": "stdout",
          "output_type": "stream",
          "text": [
            "Ano bissexto.\n"
          ]
        }
      ],
      "source": [
        "ano = input(\"Digite o ano: \")\n",
        "ano = int(ano)\n",
        "\n",
        "if ano % 4 == 0 and ano % 100 != 0 or ano % 400 == 0:\n",
        "    print(\"Ano bissexto.\")\n",
        "else:\n",
        "    print(\"Ano não bissexto.\")"
      ]
    },
    {
      "cell_type": "markdown",
      "metadata": {
        "id": "_jS31FX3JvrG"
      },
      "source": [
        "6.\tEscreva um código que peça ao usuário para inserir uma letra e informe se ela é uma vogal ou uma consoante."
      ]
    },
    {
      "cell_type": "code",
      "execution_count": 19,
      "metadata": {},
      "outputs": [
        {
          "name": "stdout",
          "output_type": "stream",
          "text": [
            "Vogal.\n"
          ]
        }
      ],
      "source": [
        "letra = input(\"Digite uma letra: \")\n",
        "\n",
        "if letra == \"a\" or letra == \"e\" or letra == \"i\" or letra == \"o\" or letra == \"u\":\n",
        "    print(\"Vogal.\")\n",
        "else:\n",
        "    print(\"Consoante.\")"
      ]
    },
    {
      "cell_type": "markdown",
      "metadata": {},
      "source": [
        "7.\tCrie um programa que peça o nome de um mês e informe quantos dias ele tem.\n"
      ]
    },
    {
      "cell_type": "code",
      "execution_count": 5,
      "metadata": {},
      "outputs": [
        {
          "name": "stdout",
          "output_type": "stream",
          "text": [
            "O mês de Abril tem 30 dias.\n"
          ]
        }
      ],
      "source": [
        "def is_leap_year(ano):\n",
        "    if ano % 4 == 0 and ano % 100 != 0 or ano % 400 == 0:\n",
        "        return True\n",
        "    else:\n",
        "        return False\n",
        "def month_days(mes, ano):\n",
        "    if mes == 2:\n",
        "        if is_leap_year(ano):\n",
        "            return 29\n",
        "        else:\n",
        "            return 28\n",
        "    elif mes == 4 or mes == 6 or mes == 9 or mes == 11:\n",
        "        return 30\n",
        "    else:\n",
        "        return 31\n",
        "    \n",
        "def main():\n",
        "    mes = int(input(\"Digite o número do mês desejado: \"))\n",
        "    ano = int(input(\"Digite o ano do mês desejado: \"))\n",
        "    meses = {1: \"Janeiro\", 2: \"Fevereiro\", 3: \"Março\", 4: \"Abril\", 5: \"Maio\", 6: \"Junho\", 7: \"Julho\", 8: \"Agosto\", 9: \"Setembro\", 10: \"Outubro\", 11: \"Novembro\", 12: \"Dezembro\"}\n",
        "    dias_no_mes = month_days(mes, ano)\n",
        "    print(f\"O mês de {meses[mes]} tem {dias_no_mes} dias.\")\n",
        "\n",
        "main()"
      ]
    },
    {
      "cell_type": "markdown",
      "metadata": {
        "id": "EEY-66tcJ3Rc"
      },
      "source": [
        "8.\tDesenvolva um sistema que determine se um número é múltiplo de 3 e 5."
      ]
    },
    {
      "cell_type": "code",
      "execution_count": 10,
      "metadata": {},
      "outputs": [
        {
          "name": "stdout",
          "output_type": "stream",
          "text": [
            "Número 30 múltiplo de 3 e 5.\n"
          ]
        }
      ],
      "source": [
        "numero = int(input(\"Digite um número: \"))\n",
        "\n",
        "if numero % 3 == 0 and numero % 5 == 0:\n",
        "    print(f\"Número {numero} múltiplo de 3 e 5.\")\n",
        "else:\n",
        "    print(f\"Número {numero} não é múltiplo de 3 e 5.\")"
      ]
    },
    {
      "cell_type": "markdown",
      "metadata": {
        "id": "9Su10vicJ4wq"
      },
      "source": [
        "9.\tFaça um código que peça ao usuário seu salário e calcule o imposto a ser pago (faixas: até `R$ 1.000`, isento; `R$ 1.001` a `R$ 3.000`, 10%; acima de `R$ 3.000`, 20%)."
      ]
    },
    {
      "cell_type": "code",
      "execution_count": 11,
      "metadata": {},
      "outputs": [
        {
          "name": "stdout",
          "output_type": "stream",
          "text": [
            "O imposto a ser pago é: R$ 100.10\n"
          ]
        }
      ],
      "source": [
        "salario = float(input(\"Digite seu salário: \"))\n",
        "\n",
        "if salario <= 1000:\n",
        "    imposto = 0\n",
        "elif salario <= 3000:\n",
        "    imposto = salario * 0.10\n",
        "else:\n",
        "    imposto = salario * 0.20\n",
        "\n",
        "print(f\"O imposto a ser pago é: R$ {imposto:.2f}\")"
      ]
    },
    {
      "cell_type": "markdown",
      "metadata": {
        "id": "p_W20MikJ6iU"
      },
      "source": [
        "10.\tCrie um programa que pergunte a temperatura em graus Celsius e informe se está frio (abaixo de 15°C), ameno (15°C a 25°C) ou quente (acima de 25°C).\n"
      ]
    },
    {
      "cell_type": "code",
      "execution_count": 12,
      "metadata": {},
      "outputs": [
        {
          "name": "stdout",
          "output_type": "stream",
          "text": [
            "Está quente 🥵.\n"
          ]
        }
      ],
      "source": [
        "temperatura = float(input(\"Digite a temperatura em graus Celsius: \"))\n",
        "if temperatura < 15:\n",
        "    print(\"Está Frio 🥶.\")\n",
        "elif temperatura < 25:\n",
        "    print(\"Está ameno 🌞.\")\n",
        "elif temperatura > 58 or temperatura < -89.2:\n",
        "    print(\"Você está mentindo. 🤥.\")\n",
        "else:\n",
        "    print(\"Está quente 🥵.\")"
      ]
    },
    {
      "cell_type": "markdown",
      "metadata": {
        "id": "luRj3PH1J8F7"
      },
      "source": [
        "11.\tEscreva um código que determine se um número é primo.\n"
      ]
    },
    {
      "cell_type": "code",
      "execution_count": 19,
      "metadata": {},
      "outputs": [
        {
          "name": "stdout",
          "output_type": "stream",
          "text": [
            "O número 29 é primo.\n"
          ]
        }
      ],
      "source": [
        "numero = int(input(\"Digite um número: \"))\n",
        "if (numero % 2 == 0 or numero % 3 == 0 or numero % 5 == 0 or numero % 7 == 0) and (numero != 2 and numero != 3 and numero != 5 and numero != 7):\n",
        "    print(f\"O número {numero} não é primo.\")\n",
        "else:    \n",
        "    print(f\"O número {numero} é primo.\")"
      ]
    },
    {
      "cell_type": "markdown",
      "metadata": {
        "id": "cHgBQKKNJ9YC"
      },
      "source": [
        "12.\tFaça um programa que peça o ano de nascimento e informe a classe de idade (0-12 anos, 13-17 anos, 18-59 anos, 60 anos ou mais).\n"
      ]
    },
    {
      "cell_type": "code",
      "execution_count": null,
      "metadata": {},
      "outputs": [],
      "source": [
        "ano_atual = int(input(\"Digite o ano atual: \"))\n",
        "ano_nascimento = int(input(\"Digite o ano de nascimento: \"))\n",
        "idade = ano_atual - ano_nascimento\n",
        "if idade < 12:\n",
        "    print(\"Criança.\")\n",
        "elif idade < 18:\n",
        "    print(\"Adolescente.\")\n",
        "elif idade < 60:\n",
        "    print(\"Adulto.\")\n",
        "else:\n",
        "    print(\"Idoso.\")"
      ]
    },
    {
      "cell_type": "markdown",
      "metadata": {
        "id": "HPQnV-dZJ-mL"
      },
      "source": [
        "13.\tCrie um sistema que verifique se um triângulo é equilátero, isósceles ou escaleno com base nos comprimentos dos lados."
      ]
    },
    {
      "cell_type": "code",
      "execution_count": null,
      "metadata": {},
      "outputs": [],
      "source": [
        "lado1 = float(input(\"Digite o primeiro lado do triângulo: \"))\n",
        "lado2 = float(input(\"Digite o segundo lado do triângulo: \"))\n",
        "lado3 = float(input(\"Digite o terceiro lado do triângulo: \"))\n",
        "\n",
        "if lado1 == lado2 and lado2 == lado3:\n",
        "    print(\"Triângulo equilátero.\")\n",
        "elif lado1 == lado2 or lado2 == lado3 or lado3 == lado1:\n",
        "    print(\"Triângulo isósceles.\")\n",
        "else:    \n",
        "    print(\"Triângulo escaleno.\")\n"
      ]
    },
    {
      "cell_type": "markdown",
      "metadata": {
        "id": "KO5c2G87J_ki"
      },
      "source": [
        "# **DESAFIOS**"
      ]
    },
    {
      "cell_type": "markdown",
      "metadata": {
        "id": "Tf6ANOFHKCSq"
      },
      "source": [
        "14.\tDesenvolva um programa que peça ao usuário um número e informe a tabela de multiplicação desse número.\n",
        "\n"
      ]
    },
    {
      "cell_type": "code",
      "execution_count": 21,
      "metadata": {},
      "outputs": [
        {
          "name": "stdout",
          "output_type": "stream",
          "text": [
            "Tabuada do 10:\n",
            "10 x 1 = 10\n",
            "10 x 2 = 20\n",
            "10 x 3 = 30\n",
            "10 x 4 = 40\n",
            "10 x 5 = 50\n",
            "10 x 6 = 60\n",
            "10 x 7 = 70\n",
            "10 x 8 = 80\n",
            "10 x 9 = 90\n",
            "10 x 10 = 100\n"
          ]
        }
      ],
      "source": [
        "numero = int(input(\"Digite um número: \"))\n",
        "print(f\"Tabuada do {numero}:\")\n",
        "for i in range(1, 11):\n",
        "    print(f\"{numero} x {i} = {numero * i}\")"
      ]
    },
    {
      "cell_type": "markdown",
      "metadata": {
        "id": "IVM3IesrKFie"
      },
      "source": [
        "15.\tEscreva um código que verifique se uma senha é válida (mínimo de 8 caracteres, pelo menos uma letra e um número)."
      ]
    },
    {
      "cell_type": "code",
      "execution_count": 29,
      "metadata": {},
      "outputs": [
        {
          "name": "stdout",
          "output_type": "stream",
          "text": [
            "Senha válida.\n"
          ]
        }
      ],
      "source": [
        "senha = input(\"Digite sua senha: \")\n",
        "tamanho_senha = len(senha) # função len() Retorna o tamanho da string\n",
        "somente_letra = senha.isalpha() # Método de string .isalpha() retorna True se a string contém apenas letras\n",
        "somente_numero = senha.isnumeric() # Método de string .isnumeric() retorna True se a string contém apenas números\n",
        "\n",
        "if tamanho_senha < 8 or somente_letra or somente_numero: # if espera um valor booleano(ou seja True ou False e os métodos isalpha() e isnumeric() retornam True ou False e como as variáveis somente_letra e somente_numero armazenam o retorno desses métodos, então elas já são booleanas)\n",
        "    print(\"Senha inválida. Sua senha deve conter no mínimo 8 caracteres, sendo pelo menos um número e uma letra.\")\n",
        "else:\n",
        "    print(\"Senha válida.\")\n"
      ]
    }
  ],
  "metadata": {
    "colab": {
      "authorship_tag": "ABX9TyPiKEKf7czA9IbLsdXIaAeV",
      "include_colab_link": true,
      "provenance": []
    },
    "kernelspec": {
      "display_name": "Python 3",
      "name": "python3"
    },
    "language_info": {
      "codemirror_mode": {
        "name": "ipython",
        "version": 3
      },
      "file_extension": ".py",
      "mimetype": "text/x-python",
      "name": "python",
      "nbconvert_exporter": "python",
      "pygments_lexer": "ipython3",
      "version": "3.12.1"
    }
  },
  "nbformat": 4,
  "nbformat_minor": 0
}
